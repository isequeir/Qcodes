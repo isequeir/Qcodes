{
 "cells": [
  {
   "cell_type": "markdown",
   "metadata": {},
   "source": [
    "# DataSet Performance\n",
    "\n",
    "This notebook shows the trade-off between inserting data into a database row-by-row and as binary blobs. Inserting the data row-by-row means that we have direct access to all the data and may perform queries directly on the values of the data. On the other hand, as we shall see, this is much slower than inserting the data directly as binary blobs."
   ]
  },
  {
   "cell_type": "markdown",
   "metadata": {},
   "source": [
    "First, we choose a new location for the database to ensure that we don't add a bunch of benchmarking data to the default one."
   ]
  },
  {
   "cell_type": "code",
   "execution_count": 1,
   "metadata": {
    "execution": {
     "iopub.execute_input": "2022-01-10T01:17:52.971928Z",
     "iopub.status.busy": "2022-01-10T01:17:52.971376Z",
     "iopub.status.idle": "2022-01-10T01:17:53.252372Z",
     "shell.execute_reply": "2022-01-10T01:17:53.251761Z"
    }
   },
   "outputs": [],
   "source": [
    "import os\n",
    "cwd = os.getcwd()\n",
    "import qcodes as qc\n",
    "qc.config[\"core\"][\"db_location\"] = os.path.join(cwd, 'testing.db')\n"
   ]
  },
  {
   "cell_type": "code",
   "execution_count": 2,
   "metadata": {
    "execution": {
     "iopub.execute_input": "2022-01-10T01:17:53.261191Z",
     "iopub.status.busy": "2022-01-10T01:17:53.259523Z",
     "iopub.status.idle": "2022-01-10T01:17:53.989018Z",
     "shell.execute_reply": "2022-01-10T01:17:53.987876Z"
    }
   },
   "outputs": [],
   "source": [
    "%matplotlib inline\n",
    "import time\n",
    "import matplotlib.pyplot as plt\n",
    "import numpy as np\n",
    "\n",
    "import qcodes as qc\n",
    "from qcodes.instrument.parameter import ManualParameter\n",
    "from qcodes.dataset.experiment_container import (Experiment,\n",
    "                                                 load_last_experiment,\n",
    "                                                 new_experiment)\n",
    "from qcodes.dataset.sqlite.database import initialise_database\n",
    "from qcodes import load_or_create_experiment\n",
    "from qcodes.dataset.measurements import Measurement"
   ]
  },
  {
   "cell_type": "code",
   "execution_count": 3,
   "metadata": {
    "execution": {
     "iopub.execute_input": "2022-01-10T01:17:53.993136Z",
     "iopub.status.busy": "2022-01-10T01:17:53.992581Z",
     "iopub.status.idle": "2022-01-10T01:17:54.101944Z",
     "shell.execute_reply": "2022-01-10T01:17:54.101354Z"
    }
   },
   "outputs": [
    {
     "name": "stdout",
     "output_type": "stream",
     "text": [
      "\r",
      "0it [00:00, ?it/s]"
     ]
    },
    {
     "name": "stdout",
     "output_type": "stream",
     "text": [
      "\r",
      "Upgrading database; v0 -> v1: : 0it [00:00, ?it/s]"
     ]
    },
    {
     "name": "stdout",
     "output_type": "stream",
     "text": [
      "\r",
      "Upgrading database; v0 -> v1: : 0it [00:00, ?it/s]"
     ]
    },
    {
     "name": "stdout",
     "output_type": "stream",
     "text": [
      "\n"
     ]
    },
    {
     "name": "stdout",
     "output_type": "stream",
     "text": [
      "\r",
      "  0%|          | 0/1 [00:00<?, ?it/s]"
     ]
    },
    {
     "name": "stdout",
     "output_type": "stream",
     "text": [
      "\r",
      "Upgrading database; v1 -> v2:   0%|          | 0/1 [00:00<?, ?it/s]"
     ]
    },
    {
     "name": "stdout",
     "output_type": "stream",
     "text": [
      "\r",
      "Upgrading database; v1 -> v2: 100%|██████████| 1/1 [00:00<00:00, 342.25it/s]"
     ]
    },
    {
     "name": "stdout",
     "output_type": "stream",
     "text": [
      "\n"
     ]
    },
    {
     "name": "stdout",
     "output_type": "stream",
     "text": [
      "\r",
      "0it [00:00, ?it/s]"
     ]
    },
    {
     "name": "stdout",
     "output_type": "stream",
     "text": [
      "\r",
      "Upgrading database; v2 -> v3: : 0it [00:00, ?it/s]"
     ]
    },
    {
     "name": "stdout",
     "output_type": "stream",
     "text": [
      "\r",
      "Upgrading database; v2 -> v3: : 0it [00:00, ?it/s]"
     ]
    },
    {
     "name": "stdout",
     "output_type": "stream",
     "text": [
      "\n"
     ]
    },
    {
     "name": "stdout",
     "output_type": "stream",
     "text": [
      "\r",
      "0it [00:00, ?it/s]"
     ]
    },
    {
     "name": "stdout",
     "output_type": "stream",
     "text": [
      "\r",
      "Upgrading database; v3 -> v4: : 0it [00:00, ?it/s]"
     ]
    },
    {
     "name": "stdout",
     "output_type": "stream",
     "text": [
      "\r",
      "Upgrading database; v3 -> v4: : 0it [00:00, ?it/s]"
     ]
    },
    {
     "name": "stdout",
     "output_type": "stream",
     "text": [
      "\n"
     ]
    },
    {
     "name": "stdout",
     "output_type": "stream",
     "text": [
      "\r",
      "  0%|          | 0/1 [00:00<?, ?it/s]"
     ]
    },
    {
     "name": "stdout",
     "output_type": "stream",
     "text": [
      "\r",
      "Upgrading database; v4 -> v5:   0%|          | 0/1 [00:00<?, ?it/s]"
     ]
    },
    {
     "name": "stdout",
     "output_type": "stream",
     "text": [
      "\r",
      "Upgrading database; v4 -> v5: 100%|██████████| 1/1 [00:00<00:00, 461.12it/s]"
     ]
    },
    {
     "name": "stdout",
     "output_type": "stream",
     "text": [
      "\n"
     ]
    },
    {
     "name": "stdout",
     "output_type": "stream",
     "text": [
      "\r",
      "0it [00:00, ?it/s]"
     ]
    },
    {
     "name": "stdout",
     "output_type": "stream",
     "text": [
      "\r",
      "Upgrading database; v5 -> v6: : 0it [00:00, ?it/s]"
     ]
    },
    {
     "name": "stdout",
     "output_type": "stream",
     "text": [
      "\r",
      "Upgrading database; v5 -> v6: : 0it [00:00, ?it/s]"
     ]
    },
    {
     "name": "stdout",
     "output_type": "stream",
     "text": [
      "\n"
     ]
    },
    {
     "name": "stdout",
     "output_type": "stream",
     "text": [
      "\r",
      "  0%|          | 0/1 [00:00<?, ?it/s]"
     ]
    },
    {
     "name": "stdout",
     "output_type": "stream",
     "text": [
      "\r",
      "Upgrading database; v6 -> v7:   0%|          | 0/1 [00:00<?, ?it/s]"
     ]
    },
    {
     "name": "stdout",
     "output_type": "stream",
     "text": [
      "\r",
      "Upgrading database; v6 -> v7: 100%|██████████| 1/1 [00:00<00:00, 301.23it/s]"
     ]
    },
    {
     "name": "stdout",
     "output_type": "stream",
     "text": [
      "\n"
     ]
    },
    {
     "name": "stdout",
     "output_type": "stream",
     "text": [
      "\r",
      "  0%|          | 0/1 [00:00<?, ?it/s]"
     ]
    },
    {
     "name": "stdout",
     "output_type": "stream",
     "text": [
      "\r",
      "Upgrading database; v7 -> v8:   0%|          | 0/1 [00:00<?, ?it/s]"
     ]
    },
    {
     "name": "stdout",
     "output_type": "stream",
     "text": [
      "\r",
      "Upgrading database; v7 -> v8: 100%|██████████| 1/1 [00:00<00:00, 454.22it/s]"
     ]
    },
    {
     "name": "stdout",
     "output_type": "stream",
     "text": [
      "\n"
     ]
    },
    {
     "name": "stdout",
     "output_type": "stream",
     "text": [
      "\r",
      "  0%|          | 0/1 [00:00<?, ?it/s]"
     ]
    },
    {
     "name": "stdout",
     "output_type": "stream",
     "text": [
      "\r",
      "Upgrading database; v8 -> v9:   0%|          | 0/1 [00:00<?, ?it/s]"
     ]
    },
    {
     "name": "stdout",
     "output_type": "stream",
     "text": [
      "\r",
      "Upgrading database; v8 -> v9: 100%|██████████| 1/1 [00:00<00:00, 569.88it/s]"
     ]
    },
    {
     "name": "stdout",
     "output_type": "stream",
     "text": [
      "\n"
     ]
    }
   ],
   "source": [
    "initialise_database()\n",
    "exp = load_or_create_experiment(experiment_name='tutorial_exp', sample_name=\"no sample\")"
   ]
  },
  {
   "cell_type": "markdown",
   "metadata": {},
   "source": [
    "Here, we define a simple function to benchmark the time it takes to insert n points with either numeric or array data type.\n",
    "We will compare both the time used to call ``add_result`` and the time used for the full measurement."
   ]
  },
  {
   "cell_type": "code",
   "execution_count": 4,
   "metadata": {
    "execution": {
     "iopub.execute_input": "2022-01-10T01:17:54.110182Z",
     "iopub.status.busy": "2022-01-10T01:17:54.104418Z",
     "iopub.status.idle": "2022-01-10T01:17:54.113934Z",
     "shell.execute_reply": "2022-01-10T01:17:54.113268Z"
    }
   },
   "outputs": [],
   "source": [
    "def insert_data(paramtype, npoints, nreps=1):\n",
    "\n",
    "    meas = Measurement(exp=exp)\n",
    "\n",
    "    x1 = ManualParameter('x1')\n",
    "    x2 = ManualParameter('x2')\n",
    "    x3 = ManualParameter('x3')\n",
    "    y1 = ManualParameter('y1')\n",
    "    y2 = ManualParameter('y2')\n",
    "\n",
    "    meas.register_parameter(x1, paramtype=paramtype)\n",
    "    meas.register_parameter(x2, paramtype=paramtype)\n",
    "    meas.register_parameter(x3, paramtype=paramtype)\n",
    "    meas.register_parameter(y1, setpoints=[x1, x2, x3],\n",
    "                            paramtype=paramtype)\n",
    "    meas.register_parameter(y2, setpoints=[x1, x2, x3],\n",
    "                            paramtype=paramtype)\n",
    "    start = time.perf_counter()\n",
    "    with meas.run() as datasaver:\n",
    "        start_adding = time.perf_counter()\n",
    "        for i in range(nreps):\n",
    "            datasaver.add_result((x1, np.random.rand(npoints)),\n",
    "                                 (x2, np.random.rand(npoints)),\n",
    "                                 (x3, np.random.rand(npoints)),\n",
    "                                 (y1, np.random.rand(npoints)),\n",
    "                                 (y2, np.random.rand(npoints)))\n",
    "        stop_adding = time.perf_counter()\n",
    "        run_id = datasaver.run_id\n",
    "    stop = time.perf_counter()\n",
    "    tot_time = stop - start\n",
    "    add_time = stop_adding - start_adding\n",
    "    return tot_time, add_time, run_id"
   ]
  },
  {
   "cell_type": "markdown",
   "metadata": {},
   "source": [
    "## Comparison between numeric/array data and binary blob"
   ]
  },
  {
   "cell_type": "markdown",
   "metadata": {},
   "source": [
    "### Case1: Short experiment time"
   ]
  },
  {
   "cell_type": "code",
   "execution_count": 5,
   "metadata": {
    "execution": {
     "iopub.execute_input": "2022-01-10T01:17:54.121250Z",
     "iopub.status.busy": "2022-01-10T01:17:54.120525Z",
     "iopub.status.idle": "2022-01-10T01:17:54.999253Z",
     "shell.execute_reply": "2022-01-10T01:17:55.000093Z"
    }
   },
   "outputs": [
    {
     "name": "stdout",
     "output_type": "stream",
     "text": [
      "Starting experimental run with id: 1. \n",
      "Starting experimental run with id: 2. \n",
      "Starting experimental run with id: 3. \n"
     ]
    },
    {
     "name": "stdout",
     "output_type": "stream",
     "text": [
      "Starting experimental run with id: 4. \n"
     ]
    },
    {
     "name": "stdout",
     "output_type": "stream",
     "text": [
      "Starting experimental run with id: 5. \n"
     ]
    },
    {
     "name": "stdout",
     "output_type": "stream",
     "text": [
      "Starting experimental run with id: 6. \n"
     ]
    },
    {
     "name": "stdout",
     "output_type": "stream",
     "text": [
      "Starting experimental run with id: 7. \n",
      "Starting experimental run with id: 8. \n"
     ]
    },
    {
     "name": "stdout",
     "output_type": "stream",
     "text": [
      "Starting experimental run with id: 9. \n"
     ]
    },
    {
     "name": "stdout",
     "output_type": "stream",
     "text": [
      "Starting experimental run with id: 10. \n",
      "Starting experimental run with id: 11. \n"
     ]
    },
    {
     "name": "stdout",
     "output_type": "stream",
     "text": [
      "Starting experimental run with id: 12. \n",
      "Starting experimental run with id: 13. \n"
     ]
    },
    {
     "name": "stdout",
     "output_type": "stream",
     "text": [
      "Starting experimental run with id: 14. \n"
     ]
    }
   ],
   "source": [
    "sizes = [1,500,1000,2000,3000,4000,5000]\n",
    "t_numeric = []\n",
    "t_numeric_add = []\n",
    "t_array = []\n",
    "t_array_add = []\n",
    "for size in sizes:\n",
    "    tn, tna, run_id_n =  insert_data('numeric', size)\n",
    "    t_numeric.append(tn)\n",
    "    t_numeric_add.append(tna)\n",
    "\n",
    "    ta, taa, run_id_a =  insert_data('array', size)\n",
    "    t_array.append(ta)\n",
    "    t_array_add.append(taa)"
   ]
  },
  {
   "cell_type": "code",
   "execution_count": 6,
   "metadata": {
    "execution": {
     "iopub.execute_input": "2022-01-10T01:17:55.020833Z",
     "iopub.status.busy": "2022-01-10T01:17:55.008377Z",
     "iopub.status.idle": "2022-01-10T01:17:55.264646Z",
     "shell.execute_reply": "2022-01-10T01:17:55.265104Z"
    }
   },
   "outputs": [
    {
     "data": {
      "image/png": "[encoded data removed]",
      "text/plain": [
       "<Figure size 432x288 with 1 Axes>"
      ]
     },
     "metadata": {
      "needs_background": "light"
     },
     "output_type": "display_data"
    }
   ],
   "source": [
    "fig, ax = plt.subplots(1,1)\n",
    "ax.plot(sizes, t_numeric, 'o-', label='Inserting row-by-row')\n",
    "ax.plot(sizes, t_numeric_add, 'o-', label='Inserting row-by-row: add_result only')\n",
    "ax.plot(sizes, t_array, 'd-', label='Inserting as binary blob')\n",
    "ax.plot(sizes, t_array_add, 'd-', label='Inserting as binary blob: add_result only')\n",
    "ax.legend()\n",
    "ax.set_xlabel('Array length')\n",
    "ax.set_ylabel('Time (s)')\n",
    "fig.tight_layout()"
   ]
  },
  {
   "cell_type": "markdown",
   "metadata": {},
   "source": [
    "As shown in the latter figure, the time to setup and and close the experiment is approximately 0.4 sec. In case of small array sizes, the difference between inserting values of data as arrays and inserting them row-by-row is relatively unimportant. At larger array sizes, i.e. above 10000 points, the cost of writing data as individual datapoints starts to become important.\n"
   ]
  },
  {
   "cell_type": "markdown",
   "metadata": {},
   "source": [
    "### Case2: Long experiment time "
   ]
  },
  {
   "cell_type": "code",
   "execution_count": 7,
   "metadata": {
    "execution": {
     "iopub.execute_input": "2022-01-10T01:17:55.272883Z",
     "iopub.status.busy": "2022-01-10T01:17:55.272206Z",
     "iopub.status.idle": "2022-01-10T01:18:51.818434Z",
     "shell.execute_reply": "2022-01-10T01:18:51.817951Z"
    }
   },
   "outputs": [
    {
     "name": "stdout",
     "output_type": "stream",
     "text": [
      "Starting experimental run with id: 15. \n",
      "Starting experimental run with id: 16. \n",
      "Starting experimental run with id: 17. \n"
     ]
    },
    {
     "name": "stdout",
     "output_type": "stream",
     "text": [
      "Starting experimental run with id: 18. \n",
      "Starting experimental run with id: 19. \n"
     ]
    },
    {
     "name": "stdout",
     "output_type": "stream",
     "text": [
      "Starting experimental run with id: 20. \n",
      "Starting experimental run with id: 21. \n"
     ]
    },
    {
     "name": "stdout",
     "output_type": "stream",
     "text": [
      "Starting experimental run with id: 22. \n"
     ]
    },
    {
     "name": "stdout",
     "output_type": "stream",
     "text": [
      "Starting experimental run with id: 23. \n"
     ]
    },
    {
     "name": "stdout",
     "output_type": "stream",
     "text": [
      "Starting experimental run with id: 24. \n"
     ]
    },
    {
     "name": "stdout",
     "output_type": "stream",
     "text": [
      "Starting experimental run with id: 25. \n"
     ]
    },
    {
     "name": "stdout",
     "output_type": "stream",
     "text": [
      "Starting experimental run with id: 26. \n"
     ]
    },
    {
     "name": "stdout",
     "output_type": "stream",
     "text": [
      "Starting experimental run with id: 27. \n"
     ]
    },
    {
     "name": "stdout",
     "output_type": "stream",
     "text": [
      "Starting experimental run with id: 28. \n"
     ]
    }
   ],
   "source": [
    "sizes = [1,500,1000,2000,3000,4000,5000]\n",
    "nreps = 100\n",
    "t_numeric = []\n",
    "t_numeric_add = []\n",
    "t_numeric_run_ids = []\n",
    "t_array = []\n",
    "t_array_add = []\n",
    "t_array_run_ids = []\n",
    "for size in sizes:\n",
    "    tn, tna, run_id_n =  insert_data('numeric', size, nreps=nreps)\n",
    "    t_numeric.append(tn)\n",
    "    t_numeric_add.append(tna)\n",
    "    t_numeric_run_ids.append(run_id_n)\n",
    "\n",
    "    ta, taa, run_id_a =  insert_data('array', size, nreps=nreps)\n",
    "    t_array.append(ta)\n",
    "    t_array_add.append(taa)\n",
    "    t_array_run_ids.append(run_id_a)"
   ]
  },
  {
   "cell_type": "code",
   "execution_count": 8,
   "metadata": {
    "execution": {
     "iopub.execute_input": "2022-01-10T01:18:51.866683Z",
     "iopub.status.busy": "2022-01-10T01:18:51.864661Z",
     "iopub.status.idle": "2022-01-10T01:18:52.092875Z",
     "shell.execute_reply": "2022-01-10T01:18:52.092412Z"
    },
    "scrolled": true
   },
   "outputs": [
    {
     "data": {
      "image/png": "[encoded data removed]",
      "text/plain": [
       "<Figure size 432x288 with 1 Axes>"
      ]
     },
     "metadata": {
      "needs_background": "light"
     },
     "output_type": "display_data"
    }
   ],
   "source": [
    "fig, ax = plt.subplots(1,1)\n",
    "ax.plot(sizes, t_numeric, 'o-', label='Inserting row-by-row')\n",
    "ax.plot(sizes, t_numeric_add, 'o-', label='Inserting row-by-row: add_result only')\n",
    "ax.plot(sizes, t_array, 'd-', label='Inserting as binary blob')\n",
    "ax.plot(sizes, t_array_add, 'd-', label='Inserting as binary blob: add_result only')\n",
    "ax.legend()\n",
    "ax.set_xlabel('Array length')\n",
    "ax.set_ylabel('Time (s)')\n",
    "fig.tight_layout()"
   ]
  },
  {
   "cell_type": "markdown",
   "metadata": {},
   "source": [
    "However, as we increase the length of the experiment, as seen here by repeating the insertion 100 times, we see a big difference between inserting values of the data row-by-row and inserting it as a binary blob."
   ]
  },
  {
   "cell_type": "markdown",
   "metadata": {},
   "source": [
    "## Loading the data "
   ]
  },
  {
   "cell_type": "code",
   "execution_count": 9,
   "metadata": {
    "execution": {
     "iopub.execute_input": "2022-01-10T01:18:52.097350Z",
     "iopub.status.busy": "2022-01-10T01:18:52.096817Z",
     "iopub.status.idle": "2022-01-10T01:18:52.099926Z",
     "shell.execute_reply": "2022-01-10T01:18:52.100376Z"
    }
   },
   "outputs": [],
   "source": [
    "from qcodes.dataset.data_set import load_by_id"
   ]
  },
  {
   "cell_type": "markdown",
   "metadata": {},
   "source": [
    "As usual you can load the data by using the ``load_by_id`` function but you will notice that the different storage methods\n",
    "are reflected in shape of the data as it is retrieved. "
   ]
  },
  {
   "cell_type": "code",
   "execution_count": 10,
   "metadata": {
    "execution": {
     "iopub.execute_input": "2022-01-10T01:18:52.104883Z",
     "iopub.status.busy": "2022-01-10T01:18:52.103691Z",
     "iopub.status.idle": "2022-01-10T01:18:52.105460Z",
     "shell.execute_reply": "2022-01-10T01:18:52.105970Z"
    }
   },
   "outputs": [],
   "source": [
    "run_id_n = t_numeric_run_ids[0]\n",
    "run_id_a = t_array_run_ids[0]"
   ]
  },
  {
   "cell_type": "code",
   "execution_count": 11,
   "metadata": {
    "execution": {
     "iopub.execute_input": "2022-01-10T01:18:52.110678Z",
     "iopub.status.busy": "2022-01-10T01:18:52.109109Z",
     "iopub.status.idle": "2022-01-10T01:18:52.121060Z",
     "shell.execute_reply": "2022-01-10T01:18:52.121491Z"
    },
    "scrolled": true
   },
   "outputs": [
    {
     "data": {
      "text/plain": [
       "{'x1': {'x1': array([0.53729838, 0.53729838, 0.67872611, 0.67872611, 0.43410252,\n",
       "         0.43410252, 0.82740225, 0.82740225, 0.81039025, 0.81039025,\n",
       "         0.61480384, 0.61480384, 0.02409426, 0.02409426, 0.22830615,\n",
       "         0.22830615, 0.25954428, 0.25954428, 0.03231894, 0.03231894,\n",
       "         0.96165044, 0.96165044, 0.65036628, 0.65036628, 0.76461535,\n",
       "         0.76461535, 0.54373731, 0.54373731, 0.8706658 , 0.8706658 ,\n",
       "         0.34114129, 0.34114129, 0.02381917, 0.02381917, 0.92184304,\n",
       "         0.92184304, 0.75631934, 0.75631934, 0.99724841, 0.99724841,\n",
       "         0.7934282 , 0.7934282 , 0.03641556, 0.03641556, 0.48579223,\n",
       "         0.48579223, 0.1450245 , 0.1450245 , 0.87315389, 0.87315389,\n",
       "         0.53050282, 0.53050282, 0.31203404, 0.31203404, 0.83340122,\n",
       "         0.83340122, 0.59029242, 0.59029242, 0.52709376, 0.52709376,\n",
       "         0.25259535, 0.25259535, 0.21554649, 0.21554649, 0.69378779,\n",
       "         0.69378779, 0.29538595, 0.29538595, 0.3969885 , 0.3969885 ,\n",
       "         0.06780048, 0.06780048, 0.35116149, 0.35116149, 0.63828765,\n",
       "         0.63828765, 0.99830105, 0.99830105, 0.97560417, 0.97560417,\n",
       "         0.69686513, 0.69686513, 0.16782597, 0.16782597, 0.28753324,\n",
       "         0.28753324, 0.56879327, 0.56879327, 0.98310525, 0.98310525,\n",
       "         0.62948484, 0.62948484, 0.36154698, 0.36154698, 0.55655349,\n",
       "         0.55655349, 0.62974551, 0.62974551, 0.81016579, 0.81016579,\n",
       "         0.76264574, 0.76264574, 0.06816021, 0.06816021, 0.1733766 ,\n",
       "         0.1733766 , 0.2333956 , 0.2333956 , 0.63916591, 0.63916591,\n",
       "         0.87433253, 0.87433253, 0.33693626, 0.33693626, 0.56147345,\n",
       "         0.56147345, 0.20334307, 0.20334307, 0.4264296 , 0.4264296 ,\n",
       "         0.52185405, 0.52185405, 0.71620799, 0.71620799, 0.4037424 ,\n",
       "         0.4037424 , 0.2132644 , 0.2132644 , 0.83127379, 0.83127379,\n",
       "         0.77912136, 0.77912136, 0.77387514, 0.77387514, 0.88549968,\n",
       "         0.88549968, 0.08553717, 0.08553717, 0.71112808, 0.71112808,\n",
       "         0.17162068, 0.17162068, 0.98511198, 0.98511198, 0.31472007,\n",
       "         0.31472007, 0.6876391 , 0.6876391 , 0.80949831, 0.80949831,\n",
       "         0.68381562, 0.68381562, 0.31159743, 0.31159743, 0.52596926,\n",
       "         0.52596926, 0.1662104 , 0.1662104 , 0.80785547, 0.80785547,\n",
       "         0.96310816, 0.96310816, 0.83809828, 0.83809828, 0.08763071,\n",
       "         0.08763071, 0.72895377, 0.72895377, 0.72483138, 0.72483138,\n",
       "         0.02152744, 0.02152744, 0.37614277, 0.37614277, 0.88538685,\n",
       "         0.88538685, 0.58729672, 0.58729672, 0.3370832 , 0.3370832 ,\n",
       "         0.25806915, 0.25806915, 0.89897672, 0.89897672, 0.2076326 ,\n",
       "         0.2076326 , 0.08150617, 0.08150617, 0.17490209, 0.17490209,\n",
       "         0.26134863, 0.26134863, 0.0832032 , 0.0832032 , 0.65587941,\n",
       "         0.65587941, 0.91564074, 0.91564074, 0.06432591, 0.06432591])}}"
      ]
     },
     "execution_count": 11,
     "metadata": {},
     "output_type": "execute_result"
    }
   ],
   "source": [
    "ds = load_by_id(run_id_n)\n",
    "ds.get_parameter_data('x1')"
   ]
  },
  {
   "cell_type": "markdown",
   "metadata": {},
   "source": [
    "And a dataset stored as binary arrays"
   ]
  },
  {
   "cell_type": "code",
   "execution_count": 12,
   "metadata": {
    "execution": {
     "iopub.execute_input": "2022-01-10T01:18:52.125245Z",
     "iopub.status.busy": "2022-01-10T01:18:52.124727Z",
     "iopub.status.idle": "2022-01-10T01:18:52.185239Z",
     "shell.execute_reply": "2022-01-10T01:18:52.185664Z"
    },
    "scrolled": true
   },
   "outputs": [
    {
     "data": {
      "text/plain": [
       "{'x1': {'x1': array([[0.15663269],\n",
       "         [0.15663269],\n",
       "         [0.56587749],\n",
       "         [0.56587749],\n",
       "         [0.40865374],\n",
       "         [0.40865374],\n",
       "         [0.64352776],\n",
       "         [0.64352776],\n",
       "         [0.76209135],\n",
       "         [0.76209135],\n",
       "         [0.16955403],\n",
       "         [0.16955403],\n",
       "         [0.13134893],\n",
       "         [0.13134893],\n",
       "         [0.95756756],\n",
       "         [0.95756756],\n",
       "         [0.16851644],\n",
       "         [0.16851644],\n",
       "         [0.12555948],\n",
       "         [0.12555948],\n",
       "         [0.42937616],\n",
       "         [0.42937616],\n",
       "         [0.73920416],\n",
       "         [0.73920416],\n",
       "         [0.76845726],\n",
       "         [0.76845726],\n",
       "         [0.80611418],\n",
       "         [0.80611418],\n",
       "         [0.38555392],\n",
       "         [0.38555392],\n",
       "         [0.14173392],\n",
       "         [0.14173392],\n",
       "         [0.17054154],\n",
       "         [0.17054154],\n",
       "         [0.46191894],\n",
       "         [0.46191894],\n",
       "         [0.85969432],\n",
       "         [0.85969432],\n",
       "         [0.30226796],\n",
       "         [0.30226796],\n",
       "         [0.33223   ],\n",
       "         [0.33223   ],\n",
       "         [0.80453429],\n",
       "         [0.80453429],\n",
       "         [0.56895919],\n",
       "         [0.56895919],\n",
       "         [0.11771472],\n",
       "         [0.11771472],\n",
       "         [0.37490842],\n",
       "         [0.37490842],\n",
       "         [0.23295501],\n",
       "         [0.23295501],\n",
       "         [0.10806713],\n",
       "         [0.10806713],\n",
       "         [0.8742569 ],\n",
       "         [0.8742569 ],\n",
       "         [0.49328911],\n",
       "         [0.49328911],\n",
       "         [0.0954288 ],\n",
       "         [0.0954288 ],\n",
       "         [0.47483873],\n",
       "         [0.47483873],\n",
       "         [0.00784234],\n",
       "         [0.00784234],\n",
       "         [0.38525029],\n",
       "         [0.38525029],\n",
       "         [0.04238576],\n",
       "         [0.04238576],\n",
       "         [0.11975797],\n",
       "         [0.11975797],\n",
       "         [0.30628084],\n",
       "         [0.30628084],\n",
       "         [0.88897869],\n",
       "         [0.88897869],\n",
       "         [0.90412655],\n",
       "         [0.90412655],\n",
       "         [0.36314433],\n",
       "         [0.36314433],\n",
       "         [0.08951886],\n",
       "         [0.08951886],\n",
       "         [0.26927187],\n",
       "         [0.26927187],\n",
       "         [0.35459806],\n",
       "         [0.35459806],\n",
       "         [0.49826607],\n",
       "         [0.49826607],\n",
       "         [0.10146401],\n",
       "         [0.10146401],\n",
       "         [0.97518176],\n",
       "         [0.97518176],\n",
       "         [0.82823623],\n",
       "         [0.82823623],\n",
       "         [0.20301751],\n",
       "         [0.20301751],\n",
       "         [0.65482032],\n",
       "         [0.65482032],\n",
       "         [0.18962969],\n",
       "         [0.18962969],\n",
       "         [0.79908965],\n",
       "         [0.79908965],\n",
       "         [0.79980636],\n",
       "         [0.79980636],\n",
       "         [0.65563425],\n",
       "         [0.65563425],\n",
       "         [0.60418599],\n",
       "         [0.60418599],\n",
       "         [0.01404308],\n",
       "         [0.01404308],\n",
       "         [0.24749607],\n",
       "         [0.24749607],\n",
       "         [0.1500526 ],\n",
       "         [0.1500526 ],\n",
       "         [0.20885984],\n",
       "         [0.20885984],\n",
       "         [0.28553189],\n",
       "         [0.28553189],\n",
       "         [0.98744843],\n",
       "         [0.98744843],\n",
       "         [0.82795642],\n",
       "         [0.82795642],\n",
       "         [0.06368561],\n",
       "         [0.06368561],\n",
       "         [0.38659755],\n",
       "         [0.38659755],\n",
       "         [0.41185396],\n",
       "         [0.41185396],\n",
       "         [0.57127434],\n",
       "         [0.57127434],\n",
       "         [0.21929027],\n",
       "         [0.21929027],\n",
       "         [0.77759778],\n",
       "         [0.77759778],\n",
       "         [0.82812725],\n",
       "         [0.82812725],\n",
       "         [0.58240754],\n",
       "         [0.58240754],\n",
       "         [0.3029613 ],\n",
       "         [0.3029613 ],\n",
       "         [0.77254944],\n",
       "         [0.77254944],\n",
       "         [0.12093092],\n",
       "         [0.12093092],\n",
       "         [0.93872986],\n",
       "         [0.93872986],\n",
       "         [0.85796406],\n",
       "         [0.85796406],\n",
       "         [0.59659244],\n",
       "         [0.59659244],\n",
       "         [0.03049324],\n",
       "         [0.03049324],\n",
       "         [0.00256933],\n",
       "         [0.00256933],\n",
       "         [0.84385357],\n",
       "         [0.84385357],\n",
       "         [0.56734591],\n",
       "         [0.56734591],\n",
       "         [0.40531704],\n",
       "         [0.40531704],\n",
       "         [0.36933892],\n",
       "         [0.36933892],\n",
       "         [0.30696479],\n",
       "         [0.30696479],\n",
       "         [0.90420964],\n",
       "         [0.90420964],\n",
       "         [0.61100523],\n",
       "         [0.61100523],\n",
       "         [0.31359602],\n",
       "         [0.31359602],\n",
       "         [0.17012345],\n",
       "         [0.17012345],\n",
       "         [0.12611546],\n",
       "         [0.12611546],\n",
       "         [0.28271966],\n",
       "         [0.28271966],\n",
       "         [0.73862665],\n",
       "         [0.73862665],\n",
       "         [0.20601961],\n",
       "         [0.20601961],\n",
       "         [0.90634163],\n",
       "         [0.90634163],\n",
       "         [0.33409965],\n",
       "         [0.33409965],\n",
       "         [0.95695987],\n",
       "         [0.95695987],\n",
       "         [0.30134394],\n",
       "         [0.30134394],\n",
       "         [0.89821239],\n",
       "         [0.89821239],\n",
       "         [0.36469974],\n",
       "         [0.36469974],\n",
       "         [0.26678777],\n",
       "         [0.26678777],\n",
       "         [0.58555918],\n",
       "         [0.58555918],\n",
       "         [0.9589774 ],\n",
       "         [0.9589774 ],\n",
       "         [0.32971993],\n",
       "         [0.32971993],\n",
       "         [0.93898409],\n",
       "         [0.93898409]])}}"
      ]
     },
     "execution_count": 12,
     "metadata": {},
     "output_type": "execute_result"
    }
   ],
   "source": [
    "ds = load_by_id(run_id_a)\n",
    "ds.get_parameter_data('x1')"
   ]
  },
  {
   "cell_type": "code",
   "execution_count": null,
   "metadata": {},
   "outputs": [],
   "source": []
  }
 ],
 "metadata": {
  "kernelspec": {
   "display_name": "Python 3",
   "language": "python",
   "name": "python3"
  },
  "language_info": {
   "codemirror_mode": {
    "name": "ipython",
    "version": 3
   },
   "file_extension": ".py",
   "mimetype": "text/x-python",
   "name": "python",
   "nbconvert_exporter": "python",
   "pygments_lexer": "ipython3",
   "version": "3.9.9"
  },
  "nbsphinx": {
   "timeout": 600
  },
  "toc": {
   "base_numbering": 1,
   "nav_menu": {},
   "number_sections": true,
   "sideBar": true,
   "skip_h1_title": false,
   "title_cell": "Table of Contents",
   "title_sidebar": "Contents",
   "toc_cell": false,
   "toc_position": {},
   "toc_section_display": true,
   "toc_window_display": false
  },
  "varInspector": {
   "cols": {
    "lenName": 16,
    "lenType": 16,
    "lenVar": 40
   },
   "kernels_config": {
    "python": {
     "delete_cmd_postfix": "",
     "delete_cmd_prefix": "del ",
     "library": "var_list.py",
     "varRefreshCmd": "print(var_dic_list())"
    },
    "r": {
     "delete_cmd_postfix": ") ",
     "delete_cmd_prefix": "rm(",
     "library": "var_list.r",
     "varRefreshCmd": "cat(var_dic_list()) "
    }
   },
   "types_to_exclude": [
    "module",
    "function",
    "builtin_function_or_method",
    "instance",
    "_Feature"
   ],
   "window_display": false
  }
 },
 "nbformat": 4,
 "nbformat_minor": 4
}
