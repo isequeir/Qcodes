{
 "cells": [
  {
   "cell_type": "markdown",
   "id": "plain-primary",
   "metadata": {},
   "source": [
    "# Qcodes example with DelegateInstrument driver\n",
    "\n",
    "This notebooks explains how to use the `DelegateInstrument` driver.\n",
    "\n",
    "## About\n",
    "The goal of the `DelegateInstrument` driver is to make it easier to combine different parameters together into a new \"virtual\" instrument. Each parameter on a `DelegateInstrument` can point to one or more parameters on other instruments in the station.\n",
    "\n",
    "## Usage\n",
    "The way it's used is mainly by specifying an entry in the station YAML. For instance, let's say you want to use a magnetic field coil. The driver has a method set_field(value, block), that by default is set to block=True, which means the field is ramped in a way that blocks further execution until the desired value is reached. However, let's say you are creating a measurement in which you want the parameter to be set, and while the value is ramping, you want to measure other parameters. This can be done by using `DelegateInstrument` and specifying a custom `setter` for the parameter that gets and sets the magnetic field.\n",
    "\n",
    "By default, each parameter is represented by a `DelegateParameter`. The `DelegateInstrument` also supports passing multiple source parameters to a given parameter. In order to do this, simply specify multiple parameters in the dictionary values  under the `parameters` key.\n",
    "\n",
    "It can also add instrument channels, specified under a separate key `channels`, shown in the second half of the notebook."
   ]
  },
  {
   "cell_type": "code",
   "execution_count": 1,
   "id": "sapphire-quebec",
   "metadata": {
    "execution": {
     "iopub.execute_input": "2022-01-10T01:24:43.989128Z",
     "iopub.status.busy": "2022-01-10T01:24:43.988600Z",
     "iopub.status.idle": "2022-01-10T01:24:43.995529Z",
     "shell.execute_reply": "2022-01-10T01:24:43.995028Z"
    }
   },
   "outputs": [
    {
     "name": "stdout",
     "output_type": "stream",
     "text": [
      "Writing example.yaml\n"
     ]
    }
   ],
   "source": [
    "%%writefile example.yaml\n",
    "\n",
    "instruments:\n",
    "  field_X:\n",
    "    type: qcodes.tests.instrument_mocks.MockField\n",
    "\n",
    "  field:\n",
    "    type: qcodes.instrument.delegate.DelegateInstrument\n",
    "    init:\n",
    "      parameters:\n",
    "        X:\n",
    "          - field_X.field\n",
    "        ramp_rate:\n",
    "          - field_X.ramp_rate\n",
    "        combined:\n",
    "          - field_X.field\n",
    "          - field_X.ramp_rate\n",
    "      set_initial_values_on_load: true\n",
    "      initial_values:\n",
    "        ramp_rate: 1.0\n",
    "      setters:\n",
    "        X:\n",
    "          method: field_X.set_field\n",
    "          block: false"
   ]
  },
  {
   "cell_type": "code",
   "execution_count": 2,
   "id": "younger-newspaper",
   "metadata": {
    "execution": {
     "iopub.execute_input": "2022-01-10T01:24:43.999189Z",
     "iopub.status.busy": "2022-01-10T01:24:43.998668Z",
     "iopub.status.idle": "2022-01-10T01:24:44.288465Z",
     "shell.execute_reply": "2022-01-10T01:24:44.287958Z"
    }
   },
   "outputs": [],
   "source": [
    "import qcodes as qc"
   ]
  },
  {
   "cell_type": "code",
   "execution_count": 3,
   "id": "muslim-briefs",
   "metadata": {
    "execution": {
     "iopub.execute_input": "2022-01-10T01:24:44.292746Z",
     "iopub.status.busy": "2022-01-10T01:24:44.292233Z",
     "iopub.status.idle": "2022-01-10T01:24:44.308817Z",
     "shell.execute_reply": "2022-01-10T01:24:44.307900Z"
    }
   },
   "outputs": [],
   "source": [
    "station = qc.Station(config_file=\"example.yaml\")"
   ]
  },
  {
   "cell_type": "code",
   "execution_count": 4,
   "id": "greatest-antenna",
   "metadata": {
    "execution": {
     "iopub.execute_input": "2022-01-10T01:24:44.312827Z",
     "iopub.status.busy": "2022-01-10T01:24:44.312323Z",
     "iopub.status.idle": "2022-01-10T01:24:44.339967Z",
     "shell.execute_reply": "2022-01-10T01:24:44.340701Z"
    }
   },
   "outputs": [],
   "source": [
    "field_X = station.load_field_X()\n",
    "field = station.load_field(station=station)"
   ]
  },
  {
   "cell_type": "code",
   "execution_count": 5,
   "id": "every-playing",
   "metadata": {
    "execution": {
     "iopub.execute_input": "2022-01-10T01:24:44.351681Z",
     "iopub.status.busy": "2022-01-10T01:24:44.351075Z",
     "iopub.status.idle": "2022-01-10T01:24:44.353840Z",
     "shell.execute_reply": "2022-01-10T01:24:44.353323Z"
    }
   },
   "outputs": [
    {
     "data": {
      "text/plain": [
       "0.0"
      ]
     },
     "execution_count": 5,
     "metadata": {},
     "output_type": "execute_result"
    }
   ],
   "source": [
    "field.X()"
   ]
  },
  {
   "cell_type": "code",
   "execution_count": 6,
   "id": "undefined-worst",
   "metadata": {
    "execution": {
     "iopub.execute_input": "2022-01-10T01:24:44.358481Z",
     "iopub.status.busy": "2022-01-10T01:24:44.357185Z",
     "iopub.status.idle": "2022-01-10T01:24:44.359020Z",
     "shell.execute_reply": "2022-01-10T01:24:44.359415Z"
    }
   },
   "outputs": [],
   "source": [
    "field.X(1.)"
   ]
  },
  {
   "cell_type": "code",
   "execution_count": 7,
   "id": "recreational-suggestion",
   "metadata": {
    "execution": {
     "iopub.execute_input": "2022-01-10T01:24:44.366096Z",
     "iopub.status.busy": "2022-01-10T01:24:44.365473Z",
     "iopub.status.idle": "2022-01-10T01:24:44.369520Z",
     "shell.execute_reply": "2022-01-10T01:24:44.370021Z"
    }
   },
   "outputs": [
    {
     "data": {
      "text/plain": [
       "0.00012817780176798503"
      ]
     },
     "execution_count": 7,
     "metadata": {},
     "output_type": "execute_result"
    }
   ],
   "source": [
    "field.X()"
   ]
  },
  {
   "cell_type": "code",
   "execution_count": 8,
   "id": "adopted-exchange",
   "metadata": {
    "execution": {
     "iopub.execute_input": "2022-01-10T01:24:44.375850Z",
     "iopub.status.busy": "2022-01-10T01:24:44.375283Z",
     "iopub.status.idle": "2022-01-10T01:24:44.378132Z",
     "shell.execute_reply": "2022-01-10T01:24:44.378639Z"
    }
   },
   "outputs": [
    {
     "data": {
      "text/plain": [
       "0.00027296940485636395"
      ]
     },
     "execution_count": 8,
     "metadata": {},
     "output_type": "execute_result"
    }
   ],
   "source": [
    "field.X()"
   ]
  },
  {
   "cell_type": "code",
   "execution_count": 9,
   "id": "bound-broadcasting",
   "metadata": {
    "execution": {
     "iopub.execute_input": "2022-01-10T01:24:44.384280Z",
     "iopub.status.busy": "2022-01-10T01:24:44.383706Z",
     "iopub.status.idle": "2022-01-10T01:24:44.386475Z",
     "shell.execute_reply": "2022-01-10T01:24:44.386944Z"
    }
   },
   "outputs": [
    {
     "data": {
      "text/plain": [
       "0.00041146278381347655"
      ]
     },
     "execution_count": 9,
     "metadata": {},
     "output_type": "execute_result"
    }
   ],
   "source": [
    "field.X()"
   ]
  },
  {
   "cell_type": "code",
   "execution_count": 10,
   "id": "casual-ghost",
   "metadata": {
    "execution": {
     "iopub.execute_input": "2022-01-10T01:24:44.392464Z",
     "iopub.status.busy": "2022-01-10T01:24:44.391704Z",
     "iopub.status.idle": "2022-01-10T01:24:44.394338Z",
     "shell.execute_reply": "2022-01-10T01:24:44.394785Z"
    }
   },
   "outputs": [
    {
     "data": {
      "text/plain": [
       "0.0005495826403299968"
      ]
     },
     "execution_count": 10,
     "metadata": {},
     "output_type": "execute_result"
    }
   ],
   "source": [
    "field.X()"
   ]
  },
  {
   "cell_type": "markdown",
   "id": "alike-process",
   "metadata": {},
   "source": [
    "As you can see, the field is now ramped in the background with the specified ramp rate. Now, let's try to create a measurement that uses this ability, and ramps the field in the background while measuring:"
   ]
  },
  {
   "cell_type": "code",
   "execution_count": 11,
   "id": "sustained-tiger",
   "metadata": {
    "execution": {
     "iopub.execute_input": "2022-01-10T01:24:44.398921Z",
     "iopub.status.busy": "2022-01-10T01:24:44.398352Z",
     "iopub.status.idle": "2022-01-10T01:24:44.403907Z",
     "shell.execute_reply": "2022-01-10T01:24:44.404286Z"
    }
   },
   "outputs": [],
   "source": [
    "field.ramp_rate(10.)\n",
    "field_X.field(0.0)"
   ]
  },
  {
   "cell_type": "code",
   "execution_count": 12,
   "id": "pharmaceutical-partition",
   "metadata": {
    "execution": {
     "iopub.execute_input": "2022-01-10T01:24:44.409002Z",
     "iopub.status.busy": "2022-01-10T01:24:44.408360Z",
     "iopub.status.idle": "2022-01-10T01:24:44.411519Z",
     "shell.execute_reply": "2022-01-10T01:24:44.412064Z"
    }
   },
   "outputs": [
    {
     "data": {
      "text/plain": [
       "0.0"
      ]
     },
     "execution_count": 12,
     "metadata": {},
     "output_type": "execute_result"
    }
   ],
   "source": [
    "field.X()"
   ]
  },
  {
   "cell_type": "code",
   "execution_count": 13,
   "id": "happy-ordinance",
   "metadata": {
    "execution": {
     "iopub.execute_input": "2022-01-10T01:24:44.417442Z",
     "iopub.status.busy": "2022-01-10T01:24:44.416833Z",
     "iopub.status.idle": "2022-01-10T01:24:45.658589Z",
     "shell.execute_reply": "2022-01-10T01:24:45.658089Z"
    }
   },
   "outputs": [
    {
     "name": "stdout",
     "output_type": "stream",
     "text": [
      "Starting experimental run with id: 60. \n"
     ]
    }
   ],
   "source": [
    "import time\n",
    "meas = qc.Measurement(station=station)\n",
    "meas.register_parameter(field.X)\n",
    "\n",
    "with meas.run() as datasaver:\n",
    "    for B in [0.1, 0.0]:\n",
    "        field.X(B)\n",
    "        while field.X() != B:\n",
    "            datasaver.add_result((field.X, field.X()))\n",
    "            time.sleep(0.01)\n",
    "    datasaver.flush_data_to_database()"
   ]
  },
  {
   "cell_type": "code",
   "execution_count": 14,
   "id": "short-medium",
   "metadata": {
    "execution": {
     "iopub.execute_input": "2022-01-10T01:24:45.663545Z",
     "iopub.status.busy": "2022-01-10T01:24:45.662721Z",
     "iopub.status.idle": "2022-01-10T01:24:46.748893Z",
     "shell.execute_reply": "2022-01-10T01:24:46.748411Z"
    }
   },
   "outputs": [
    {
     "data": {
      "text/plain": [
       "<AxesSubplot:>"
      ]
     },
     "execution_count": 14,
     "metadata": {},
     "output_type": "execute_result"
    },
    {
     "data": {
      "image/png": "[encoded data removed]",
      "text/plain": [
       "<Figure size 432x288 with 1 Axes>"
      ]
     },
     "metadata": {
      "needs_background": "light"
     },
     "output_type": "display_data"
    }
   ],
   "source": [
    "datasaver.dataset.to_pandas_dataframe().plot()"
   ]
  },
  {
   "cell_type": "markdown",
   "id": "incomplete-vietnamese",
   "metadata": {},
   "source": [
    "When specifying multiple source parameters on a given parameter, the grouped parameter will automatically return a `namedtuple` that returns both values."
   ]
  },
  {
   "cell_type": "code",
   "execution_count": 15,
   "id": "dangerous-finder",
   "metadata": {
    "execution": {
     "iopub.execute_input": "2022-01-10T01:24:46.753744Z",
     "iopub.status.busy": "2022-01-10T01:24:46.753159Z",
     "iopub.status.idle": "2022-01-10T01:24:46.756594Z",
     "shell.execute_reply": "2022-01-10T01:24:46.757012Z"
    }
   },
   "outputs": [
    {
     "data": {
      "text/plain": [
       "combined(field=0.0, ramp_rate=10.0)"
      ]
     },
     "execution_count": 15,
     "metadata": {},
     "output_type": "execute_result"
    }
   ],
   "source": [
    "field.combined()"
   ]
  },
  {
   "cell_type": "markdown",
   "id": "consolidated-cooper",
   "metadata": {},
   "source": [
    "We can now also create a custom parameter that does a simple calculation based on the current parameters."
   ]
  },
  {
   "cell_type": "code",
   "execution_count": 16,
   "id": "designed-bloom",
   "metadata": {
    "execution": {
     "iopub.execute_input": "2022-01-10T01:24:46.762766Z",
     "iopub.status.busy": "2022-01-10T01:24:46.761371Z",
     "iopub.status.idle": "2022-01-10T01:24:46.763483Z",
     "shell.execute_reply": "2022-01-10T01:24:46.763932Z"
    }
   },
   "outputs": [],
   "source": [
    "import numpy as np\n",
    "\n",
    "def calculate_ramp_time(X, ramp_rate):\n",
    "    \"\"\"Calculate ramp time in seconds\"\"\"\n",
    "    dfield = np.abs(field.target_field - X)\n",
    "    return 60. * dfield/ramp_rate"
   ]
  },
  {
   "cell_type": "code",
   "execution_count": 17,
   "id": "disabled-logic",
   "metadata": {
    "execution": {
     "iopub.execute_input": "2022-01-10T01:24:46.769082Z",
     "iopub.status.busy": "2022-01-10T01:24:46.767633Z",
     "iopub.status.idle": "2022-01-10T01:24:46.769636Z",
     "shell.execute_reply": "2022-01-10T01:24:46.770223Z"
    },
    "scrolled": true
   },
   "outputs": [],
   "source": [
    "field._create_and_add_parameter(\n",
    "    group_name=\"ramp_time\",\n",
    "    station=station,\n",
    "    paths=[\"field_X.field\", \"field_X.ramp_rate\"],\n",
    "    formatter=calculate_ramp_time\n",
    ")"
   ]
  },
  {
   "cell_type": "code",
   "execution_count": 18,
   "id": "adverse-february",
   "metadata": {
    "execution": {
     "iopub.execute_input": "2022-01-10T01:24:46.775714Z",
     "iopub.status.busy": "2022-01-10T01:24:46.774803Z",
     "iopub.status.idle": "2022-01-10T01:24:46.777278Z",
     "shell.execute_reply": "2022-01-10T01:24:46.777757Z"
    }
   },
   "outputs": [
    {
     "data": {
      "text/plain": [
       "6.0"
      ]
     },
     "execution_count": 18,
     "metadata": {},
     "output_type": "execute_result"
    }
   ],
   "source": [
    "field.ramp_rate(1.0)\n",
    "field.target_field = 0.1\n",
    "field.ramp_time()"
   ]
  },
  {
   "cell_type": "code",
   "execution_count": 19,
   "id": "statutory-xerox",
   "metadata": {
    "execution": {
     "iopub.execute_input": "2022-01-10T01:24:46.782516Z",
     "iopub.status.busy": "2022-01-10T01:24:46.781357Z",
     "iopub.status.idle": "2022-01-10T01:24:46.783233Z",
     "shell.execute_reply": "2022-01-10T01:24:46.783713Z"
    }
   },
   "outputs": [],
   "source": [
    "field.X(0.1)"
   ]
  },
  {
   "cell_type": "code",
   "execution_count": 20,
   "id": "varying-auditor",
   "metadata": {
    "execution": {
     "iopub.execute_input": "2022-01-10T01:24:46.790255Z",
     "iopub.status.busy": "2022-01-10T01:24:46.788827Z",
     "iopub.status.idle": "2022-01-10T01:24:46.791986Z",
     "shell.execute_reply": "2022-01-10T01:24:46.791497Z"
    }
   },
   "outputs": [
    {
     "data": {
      "text/plain": [
       "5.9941513538360605"
      ]
     },
     "execution_count": 20,
     "metadata": {},
     "output_type": "execute_result"
    }
   ],
   "source": [
    "field.ramp_time()"
   ]
  },
  {
   "cell_type": "code",
   "execution_count": 21,
   "id": "chubby-nickel",
   "metadata": {
    "execution": {
     "iopub.execute_input": "2022-01-10T01:24:46.795399Z",
     "iopub.status.busy": "2022-01-10T01:24:46.794889Z",
     "iopub.status.idle": "2022-01-10T01:24:47.799983Z",
     "shell.execute_reply": "2022-01-10T01:24:47.800470Z"
    }
   },
   "outputs": [
    {
     "data": {
      "text/plain": [
       "4.984821557998657"
      ]
     },
     "execution_count": 21,
     "metadata": {},
     "output_type": "execute_result"
    }
   ],
   "source": [
    "import time\n",
    "time.sleep(1.)\n",
    "field.ramp_time()"
   ]
  },
  {
   "cell_type": "code",
   "execution_count": 22,
   "id": "italian-liberty",
   "metadata": {
    "execution": {
     "iopub.execute_input": "2022-01-10T01:24:47.804878Z",
     "iopub.status.busy": "2022-01-10T01:24:47.804127Z",
     "iopub.status.idle": "2022-01-10T01:24:48.809315Z",
     "shell.execute_reply": "2022-01-10T01:24:48.809890Z"
    }
   },
   "outputs": [
    {
     "data": {
      "text/plain": [
       "3.975671529769898"
      ]
     },
     "execution_count": 22,
     "metadata": {},
     "output_type": "execute_result"
    }
   ],
   "source": [
    "import time\n",
    "time.sleep(1.)\n",
    "field.ramp_time()"
   ]
  },
  {
   "cell_type": "markdown",
   "id": "53ca74b1",
   "metadata": {},
   "source": [
    "# Devices with channels"
   ]
  },
  {
   "cell_type": "markdown",
   "id": "4da219b7",
   "metadata": {},
   "source": [
    "The YAML file below specifies the instruments with the channels/parameters we wish to group into a new instrument, here called \"device\". The first example simply adds the channel 'as is' using self.add_submodule, while the readout parameter is added as a DelegateParameter."
   ]
  },
  {
   "cell_type": "code",
   "execution_count": 23,
   "id": "1a8cc339",
   "metadata": {
    "execution": {
     "iopub.execute_input": "2022-01-10T01:24:48.813961Z",
     "iopub.status.busy": "2022-01-10T01:24:48.812204Z",
     "iopub.status.idle": "2022-01-10T01:24:48.817292Z",
     "shell.execute_reply": "2022-01-10T01:24:48.817747Z"
    }
   },
   "outputs": [
    {
     "name": "stdout",
     "output_type": "stream",
     "text": [
      "Overwriting example.yaml\n"
     ]
    }
   ],
   "source": [
    "%%writefile example.yaml\n",
    "\n",
    "instruments:\n",
    "  lockin:\n",
    "    type: qcodes.tests.instrument_mocks.MockLockin\n",
    "\n",
    "  dac:\n",
    "    type: qcodes.tests.instrument_mocks.MockDAC   \n",
    "\n",
    "  device:\n",
    "    type: qcodes.instrument.delegate.DelegateInstrument\n",
    "    init:\n",
    "      parameters:\n",
    "        readout: lockin.X\n",
    "      channels:\n",
    "        gate_1: dac.ch01\n",
    "      set_initial_values_on_load: true\n",
    "      initial_values:\n",
    "        readout: 1e-5\n",
    "        gate_1.voltage.post_delay: 0.01"
   ]
  },
  {
   "cell_type": "code",
   "execution_count": 24,
   "id": "4dd10cc9",
   "metadata": {
    "execution": {
     "iopub.execute_input": "2022-01-10T01:24:48.820925Z",
     "iopub.status.busy": "2022-01-10T01:24:48.820257Z",
     "iopub.status.idle": "2022-01-10T01:24:48.836222Z",
     "shell.execute_reply": "2022-01-10T01:24:48.835701Z"
    }
   },
   "outputs": [],
   "source": [
    "station = qc.Station(config_file=\"example.yaml\")"
   ]
  },
  {
   "cell_type": "code",
   "execution_count": 25,
   "id": "2a78c7a6",
   "metadata": {
    "execution": {
     "iopub.execute_input": "2022-01-10T01:24:48.840966Z",
     "iopub.status.busy": "2022-01-10T01:24:48.840331Z",
     "iopub.status.idle": "2022-01-10T01:24:48.878160Z",
     "shell.execute_reply": "2022-01-10T01:24:48.877622Z"
    }
   },
   "outputs": [],
   "source": [
    "lockin = station.load_lockin()\n",
    "dac = station.load_dac()\n",
    "device = station.load_device(station=station)"
   ]
  },
  {
   "cell_type": "code",
   "execution_count": 26,
   "id": "631d65ed",
   "metadata": {
    "execution": {
     "iopub.execute_input": "2022-01-10T01:24:48.883637Z",
     "iopub.status.busy": "2022-01-10T01:24:48.882472Z",
     "iopub.status.idle": "2022-01-10T01:24:48.885857Z",
     "shell.execute_reply": "2022-01-10T01:24:48.885338Z"
    }
   },
   "outputs": [
    {
     "name": "stdout",
     "output_type": "stream",
     "text": [
      "<MockDACChannel: dac_ch01 of MockDAC: dac>\n",
      "0.01\n"
     ]
    }
   ],
   "source": [
    "print(device.gate_1)\n",
    "print(device.gate_1.voltage.post_delay)"
   ]
  },
  {
   "cell_type": "code",
   "execution_count": 27,
   "id": "1bb0611d",
   "metadata": {
    "execution": {
     "iopub.execute_input": "2022-01-10T01:24:48.889424Z",
     "iopub.status.busy": "2022-01-10T01:24:48.888872Z",
     "iopub.status.idle": "2022-01-10T01:24:48.903886Z",
     "shell.execute_reply": "2022-01-10T01:24:48.903433Z"
    }
   },
   "outputs": [
    {
     "name": "stdout",
     "output_type": "stream",
     "text": [
      "0.0\n"
     ]
    },
    {
     "data": {
      "text/plain": [
       "-0.6"
      ]
     },
     "execution_count": 27,
     "metadata": {},
     "output_type": "execute_result"
    }
   ],
   "source": [
    "print(device.gate_1.voltage())\n",
    "device.gate_1.voltage(-0.6)\n",
    "device.gate_1.voltage()"
   ]
  },
  {
   "cell_type": "markdown",
   "id": "21544d22",
   "metadata": {},
   "source": [
    "The second example adds a channel using a custom channel class, which takes the initial channel and its name as input and has a parameter current_valid_ranges."
   ]
  },
  {
   "cell_type": "code",
   "execution_count": 28,
   "id": "45e118f3",
   "metadata": {
    "execution": {
     "iopub.execute_input": "2022-01-10T01:24:48.908798Z",
     "iopub.status.busy": "2022-01-10T01:24:48.908296Z",
     "iopub.status.idle": "2022-01-10T01:24:48.910640Z",
     "shell.execute_reply": "2022-01-10T01:24:48.911038Z"
    }
   },
   "outputs": [
    {
     "name": "stdout",
     "output_type": "stream",
     "text": [
      "Overwriting example.yaml\n"
     ]
    }
   ],
   "source": [
    "%%writefile example.yaml\n",
    "\n",
    "instruments:\n",
    "  lockin:\n",
    "    type: qcodes.tests.instrument_mocks.MockLockin\n",
    "\n",
    "  dac:\n",
    "    type: qcodes.tests.instrument_mocks.MockDAC   \n",
    "\n",
    "  device:\n",
    "    type: qcodes.instrument.delegate.DelegateInstrument\n",
    "    init:\n",
    "      parameters:\n",
    "        readout: lockin.X\n",
    "      channels:\n",
    "        type: qcodes.tests.instrument_mocks.MockCustomChannel\n",
    "        gate_1: \n",
    "          channel: dac.ch01\n",
    "          current_valid_range: [-0.5, 0]\n",
    "      set_initial_values_on_load: true\n",
    "      initial_values:\n",
    "        readout: 1e-5"
   ]
  },
  {
   "cell_type": "code",
   "execution_count": 29,
   "id": "a7a4d41b",
   "metadata": {
    "execution": {
     "iopub.execute_input": "2022-01-10T01:24:48.915955Z",
     "iopub.status.busy": "2022-01-10T01:24:48.915003Z",
     "iopub.status.idle": "2022-01-10T01:24:48.916871Z",
     "shell.execute_reply": "2022-01-10T01:24:48.917295Z"
    }
   },
   "outputs": [],
   "source": [
    "lockin.close()\n",
    "dac.close()"
   ]
  },
  {
   "cell_type": "code",
   "execution_count": 30,
   "id": "b31f96dc",
   "metadata": {
    "execution": {
     "iopub.execute_input": "2022-01-10T01:24:48.920916Z",
     "iopub.status.busy": "2022-01-10T01:24:48.920434Z",
     "iopub.status.idle": "2022-01-10T01:24:48.960199Z",
     "shell.execute_reply": "2022-01-10T01:24:48.959701Z"
    }
   },
   "outputs": [],
   "source": [
    "station = qc.Station(config_file=\"example.yaml\")\n",
    "lockin = station.load_lockin()\n",
    "dac = station.load_dac()"
   ]
  },
  {
   "cell_type": "code",
   "execution_count": 31,
   "id": "32d2a91f",
   "metadata": {
    "execution": {
     "iopub.execute_input": "2022-01-10T01:24:48.964552Z",
     "iopub.status.busy": "2022-01-10T01:24:48.964043Z",
     "iopub.status.idle": "2022-01-10T01:24:48.977113Z",
     "shell.execute_reply": "2022-01-10T01:24:48.977516Z"
    }
   },
   "outputs": [],
   "source": [
    "device = station.load_device(station=station)"
   ]
  },
  {
   "cell_type": "code",
   "execution_count": 32,
   "id": "d9ae5d6c",
   "metadata": {
    "execution": {
     "iopub.execute_input": "2022-01-10T01:24:48.982279Z",
     "iopub.status.busy": "2022-01-10T01:24:48.981755Z",
     "iopub.status.idle": "2022-01-10T01:24:48.984667Z",
     "shell.execute_reply": "2022-01-10T01:24:48.985135Z"
    }
   },
   "outputs": [
    {
     "data": {
      "text/plain": [
       "<MockCustomChannel: dac_gate_1 of MockDAC: dac>"
      ]
     },
     "execution_count": 32,
     "metadata": {},
     "output_type": "execute_result"
    }
   ],
   "source": [
    "device.gate_1"
   ]
  },
  {
   "cell_type": "code",
   "execution_count": 33,
   "id": "c3cde6d8",
   "metadata": {
    "execution": {
     "iopub.execute_input": "2022-01-10T01:24:48.989725Z",
     "iopub.status.busy": "2022-01-10T01:24:48.988505Z",
     "iopub.status.idle": "2022-01-10T01:24:48.990331Z",
     "shell.execute_reply": "2022-01-10T01:24:48.990721Z"
    }
   },
   "outputs": [],
   "source": [
    "device.gate_1.voltage(-0.3)"
   ]
  },
  {
   "cell_type": "code",
   "execution_count": 34,
   "id": "589988fa",
   "metadata": {
    "execution": {
     "iopub.execute_input": "2022-01-10T01:24:48.996039Z",
     "iopub.status.busy": "2022-01-10T01:24:48.995365Z",
     "iopub.status.idle": "2022-01-10T01:24:48.998385Z",
     "shell.execute_reply": "2022-01-10T01:24:48.998782Z"
    }
   },
   "outputs": [
    {
     "data": {
      "text/plain": [
       "-0.3"
      ]
     },
     "execution_count": 34,
     "metadata": {},
     "output_type": "execute_result"
    }
   ],
   "source": [
    "device.gate_1.voltage()"
   ]
  },
  {
   "cell_type": "markdown",
   "id": "134318f2",
   "metadata": {},
   "source": [
    "The MockCustomChannel has a parameter `current_valid_range`."
   ]
  },
  {
   "cell_type": "code",
   "execution_count": 35,
   "id": "2e80d680",
   "metadata": {
    "execution": {
     "iopub.execute_input": "2022-01-10T01:24:49.004673Z",
     "iopub.status.busy": "2022-01-10T01:24:49.003436Z",
     "iopub.status.idle": "2022-01-10T01:24:49.006457Z",
     "shell.execute_reply": "2022-01-10T01:24:49.005980Z"
    }
   },
   "outputs": [
    {
     "data": {
      "text/plain": [
       "[-0.5, 0]"
      ]
     },
     "execution_count": 35,
     "metadata": {},
     "output_type": "execute_result"
    }
   ],
   "source": [
    "device.gate_1.current_valid_range()"
   ]
  }
 ],
 "metadata": {
  "kernelspec": {
   "display_name": "Python 3.7.9 64-bit ('qcodes_fork': conda)",
   "name": "python379jvsc74a57bd02b540bc2d5f6bd8c1d4c354bd6559a26f5871610d8f84463e1d37eff37c7ba44"
  },
  "language_info": {
   "codemirror_mode": {
    "name": "ipython",
    "version": 3
   },
   "file_extension": ".py",
   "mimetype": "text/x-python",
   "name": "python",
   "nbconvert_exporter": "python",
   "pygments_lexer": "ipython3",
   "version": "3.9.9"
  }
 },
 "nbformat": 4,
 "nbformat_minor": 5
}
